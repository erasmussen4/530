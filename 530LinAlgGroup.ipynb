{
 "cells": [
  {
   "cell_type": "markdown",
   "metadata": {},
   "source": [
    "# Linear Algebra Group Project\n",
    "#### Group Members: Corey Dobbs and Emma Rasmussen \n",
    "\n",
    "### Problem 1\n",
    "#### Part a: Write as a variational problem \n",
    " \n",
    "We are given the following for our boundary problem: \n",
    "$$ \n",
    "-u''(x) + V(x)u'(x) = f(x), x\\epsilon [0,1]\\\\\n",
    "u(0) = u(1) = 0\\\\\n",
    "V(x) = \\gamma, f(x) = 1\\\\\n",
    "$$ \n",
    "We first start by picking a test function, $\\phi(x)$. We then mupliply our initial function by this value and interate over x to get the following: \n",
    "$$ \n",
    "\\quad -\\int_{0}^{1} u''(x)\\phi(x) \\, dx + \\int_{0}^{1} u'(x)V(x)\\phi(x) \\, dx = \\int_{0}^{1} f(x)\\phi(x) \\, dx\n",
    "$$\n",
    "Focusing on the first term, we can use integration by parts to expand that to: \n",
    "$$\n",
    "\\left. -\\phi \\right|_{0}^{1} + \\int_{0}^{1} u'(x)\\phi'(x) \\,dx \n",
    "$$\n",
    "The first term of the above equation will go to zero, so getting rid of that and plugging our new expression back into our original intergral equation, we would end up with: \n",
    "$$\n",
    "\\quad \\int_{0}^{1} u'(x)\\phi'(x) \\,dx + \\int_{0}^{1} u'(x)V(x)\\phi(x) \\, dx = \\int_{0}^{1} f(x)\\phi(x) \\, dx\n",
    "$$ \n",
    "Where the terms, respecitvely, correspond to: \n",
    "$$ \n",
    "A_1[\\phi(x),u(x)] + A_2[\\phi(x),u(x)] = F[\\phi(x)] \n",
    "$$ \n",
    "\n",
    "#### Part b: Expand u as a linear combination\n",
    "\n",
    "Next, we will be expanding u as the given linear combination, $u = \\sum_{i=1}^{m} u_i\\phi_i(x)$. We will stop writing the x dependence of $\\phi$ for simplicity, but note that it still exists. Also, we will assume that we are choosing $\\phi$ from a finite dimensional basis $\\{\\phi_1, \\phi_2, ...,\\phi_m\\}$:\n",
    "$$\n",
    "A_1[\\phi_j,\\sum_{i=1}^{m} u_i\\phi_i] + A_2[\\phi_j,\\sum_{i=1}^{m} u_i\\phi_i] = F[\\phi_j] \n",
    "$$\n",
    "Since $u_i$ is a scalar, we can pull that and the sum out and simplify to: \n",
    "$$ \n",
    "\\sum_{i=1}^{m} u_i(A_1[\\phi_j,\\phi_i] + A_2[\\phi_j,\\phi_i]) = F[\\phi_j] \n",
    "$$ \n",
    "In this expression, $u_i$ corresponds to $x$, $A_1[\\phi_j,\\phi_i] + A_2[\\phi_j,\\phi_i]$ corersponds to $A_{ij}$, and $F[\\phi_j] $ corresponds to $b$, which shows that our problem is in the form $Ax-b$. \n",
    "\n",
    "#### Part c: c) Implement a driver routine that will return A and b given inputs n and gamma.  The matrix A should be implemented as a sparse representation in your environment."
   ]
  },
  {
   "cell_type": "code",
   "execution_count": null,
   "metadata": {},
   "outputs": [],
   "source": []
  }
 ],
 "metadata": {
  "kernelspec": {
   "display_name": "Python 3",
   "language": "python",
   "name": "python3"
  },
  "language_info": {
   "codemirror_mode": {
    "name": "ipython",
    "version": 3
   },
   "file_extension": ".py",
   "mimetype": "text/x-python",
   "name": "python",
   "nbconvert_exporter": "python",
   "pygments_lexer": "ipython3",
   "version": "3.8.5"
  }
 },
 "nbformat": 4,
 "nbformat_minor": 4
}
