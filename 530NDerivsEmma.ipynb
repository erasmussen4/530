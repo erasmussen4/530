{
 "cells": [
  {
   "cell_type": "markdown",
   "metadata": {},
   "source": [
    "# Numerical Derivatives Group Project \n",
    "#### Corey Dobbs and Emma Rasmussen \n",
    "\n",
    "## Problem 1- Finite Differences"
   ]
  },
  {
   "cell_type": "code",
   "execution_count": 25,
   "metadata": {},
   "outputs": [],
   "source": [
    "# import numpy as np \n",
    "\n",
    "# # Define y = sin(x)\n",
    "# def y(x):\n",
    "#     y = np.sin(x)\n",
    "    \n",
    "#     return y\n",
    "\n",
    "# # Define derivative function\n",
    "# def Der(fun, x, h):\n",
    "#     deriv = (fun(x+h) - fun(x -h))/(2*h)\n",
    "\n",
    "#     return deriv "
   ]
  },
  {
   "cell_type": "code",
   "execution_count": 26,
   "metadata": {},
   "outputs": [],
   "source": [
    "# !pip install autograd"
   ]
  },
  {
   "cell_type": "code",
   "execution_count": 27,
   "metadata": {},
   "outputs": [],
   "source": [
    "# import numpy as np \n",
    "\n",
    "# # Define y = sin(x)\n",
    "# def y(x):\n",
    "#     y = anp.sin(x)\n",
    "    \n",
    "#     return y\n",
    "\n",
    "# import matplotlib.pyplot as plt\n",
    "# import autograd.numpy as anp\n",
    "# from autograd import grad\n",
    "\n",
    "# def dual(fun, interval, N=100):\n",
    "#     x = np.linspace(interval[0], interval[1], 100)\n",
    "#     deriv  = grad(fun) # Obtain gradient function\n",
    "#     plt.plot(x, list(map(deriv, x)))\n",
    "#     plt.show()\n",
    "\n",
    "# dual(y, [-np.pi, np.pi], 100) #test\n"
   ]
  },
  {
   "cell_type": "code",
   "execution_count": 20,
   "metadata": {},
   "outputs": [
    {
     "data": {
      "image/png": "[encoded data removed]",
      "text/plain": [
       "<Figure size 432x288 with 1 Axes>"
      ]
     },
     "metadata": {
      "needs_background": "light"
     },
     "output_type": "display_data"
    }
   ],
   "source": [
    "import numpy as np\n",
    "import matplotlib.pyplot as plt\n",
    "import random\n",
    "h = 0.00001\n",
    "\n",
    "random_x = [random.uniform(-np.pi, np.pi) for _ in range(100)]\n",
    "all_errors = []\n",
    "for x in random_x:\n",
    "    approx = (np.sin( x + h ) - np.sin( x - h )) / (2 * h)\n",
    "    error = np.abs(approx - np.cos( x ))\n",
    "    all_errors.append( error )\n",
    "\n",
    "plt.scatter(random_x,all_errors)\n",
    "plt.yscale('log')\n",
    "plt.grid()\n",
    "plt.show()\n"
   ]
  },
  {
   "cell_type": "markdown",
   "metadata": {},
   "source": [
    "Now, to optimize h, we will just test out a bunch of h's and see which one seems optimal."
   ]
  },
  {
   "cell_type": "code",
   "execution_count": 29,
   "metadata": {},
   "outputs": [
    {
     "data": {
      "image/png": "[encoded data removed]",
      "text/plain": [
       "<Figure size 432x288 with 1 Axes>"
      ]
     },
     "metadata": {
      "needs_background": "light"
     },
     "output_type": "display_data"
    }
   ],
   "source": [
    "h_vals = np.logspace(-10, 0, num=100)\n",
    "all_errors = []\n",
    "\n",
    "for h in h_vals:\n",
    "    x = np.array([random.uniform(-np.pi, np.pi) for _ in range(100)])\n",
    "    approx = (np.sin( x + h ) - np.sin( x - h )) / (2 * h)\n",
    "    error = np.abs(approx - np.cos( x ))\n",
    "    meanerr = np.mean(error)\n",
    "    all_errors.append( meanerr )\n",
    "\n",
    "plt.scatter(h_vals,all_errors)\n",
    "plt.yscale('log')\n",
    "plt.xscale('log')\n",
    "plt.grid()\n",
    "plt.show()"
   ]
  },
  {
   "cell_type": "markdown",
   "metadata": {},
   "source": [
    "By looking at the graph, we can see that the error seems to level off at about h = 10^5, so we can estimate an optimal h value of about h = .00001. This h value has already been inserted into the error plot above, and one can see that the magnitude of the error doesn't get much above a magnitude of 10^(-7)"
   ]
  },
  {
   "cell_type": "code",
   "execution_count": null,
   "metadata": {},
   "outputs": [],
   "source": [
    "!pip install git+https://github.com/chebpy/chebpy.git\n",
    "!pip install autograd"
   ]
  },
  {
   "cell_type": "code",
   "execution_count": 21,
   "metadata": {},
   "outputs": [
    {
     "name": "stdout",
     "output_type": "stream",
     "text": [
      "The total time it took was 0.15642809867858887\n",
      "The derivative graph is below: <function unary_to_nary.<locals>.nary_operator.<locals>.nary_f at 0x0000017FFE08EA60>\n"
     ]
    },
    {
     "data": {
      "image/png": "[encoded data removed]",
      "text/plain": [
       "<Figure size 432x288 with 1 Axes>"
      ]
     },
     "metadata": {
      "needs_background": "light"
     },
     "output_type": "display_data"
    }
   ],
   "source": [
    "#Everything in one big one\n",
    "\n",
    "import numpy as np\n",
    "import matplotlib.pyplot as plt\n",
    "import chebpy as cheb\n",
    "import autograd.numpy as anp\n",
    "from autograd import grad\n",
    "import time\n",
    "\n",
    "# Define all the functions\n",
    "def func1(x):\n",
    "    return anp.sin(x)\n",
    "\n",
    "def func2(x):\n",
    "    return anp.sin(1/x)\n",
    "\n",
    "def func3(x):\n",
    "    return 3*x**2 + 1/anp.pi**2*np.log((anp.pi-x)**2) + 1\n",
    "\n",
    "def func4(x):\n",
    "    for _ in range(100):\n",
    "        x = anp.sin(x)\n",
    "    return x\n",
    "\n",
    "# def func5(x):\n",
    "#     A = anp.array([[1,x],[2,x**2]])\n",
    "#     b = anp.array([1,1])\n",
    "#     y = anp.linalg.solve(A,b)\n",
    "#     return 1/anp.abs(y)\n",
    "\n",
    "def func5(x):\n",
    "    A = anp.array([[1,x],[2,x**2]])\n",
    "    b = anp.array([1,1])\n",
    "    y = anp.linalg.solve(A,b)\n",
    "    normy = anp.linalg.norm(y)\n",
    "    return 1/normy\n",
    "\n",
    "# Create the methods functions\n",
    "def chebyshev( function, interval, N=100 ):\n",
    "    f = cheb.chebfun( function, interval, n=N )\n",
    "    derivative = f.diff()\n",
    "    derivative.plot()\n",
    "    plt.grid()\n",
    "    return derivative\n",
    "\n",
    "def dual(fun, interval, N=100):\n",
    "    x = np.linspace(interval[0], interval[1], N)\n",
    "    deriv  = grad(fun) # Obtain gradient function\n",
    "    #print(deriv(0.5))\n",
    "    plt.scatter(x, list(map(deriv, x)))\n",
    "    plt.grid()\n",
    "    return deriv\n",
    "\n",
    "# Create the driver funciton\n",
    "def driver( method, function, interval, N=100 ):\n",
    "    if method=='chebyshev':\n",
    "        start = time.time()\n",
    "        derivative = chebyshev( function, interval, N )\n",
    "        end = time.time()\n",
    "    elif method=='dual':\n",
    "        start = time.time()\n",
    "        derivative = dual( function, interval, N )\n",
    "        end = time.time()\n",
    "    else:\n",
    "        print('Please choose a method \\'chebyshev\\' or \\'dual\\'')\n",
    "    total_time = end - start\n",
    "    print(f'The total time it took was {total_time}')\n",
    "    print(f'The derivative graph is below: {derivative}')\n",
    "    # return derivative, total_time\n",
    "\n",
    "driver('dual', func5, [-1,1], 100)\n",
    "# x = np.linspace(-1, 1, 100)\n",
    "# plt.plot(x,[func5(v) for v in x])"
   ]
  },
  {
   "cell_type": "code",
   "execution_count": null,
   "metadata": {},
   "outputs": [],
   "source": []
  }
 ],
 "metadata": {
  "kernelspec": {
   "display_name": "base",
   "language": "python",
   "name": "python3"
  },
  "language_info": {
   "codemirror_mode": {
    "name": "ipython",
    "version": 3
   },
   "file_extension": ".py",
   "mimetype": "text/x-python",
   "name": "python",
   "nbconvert_exporter": "python",
   "pygments_lexer": "ipython3",
   "version": "3.8.5"
  }
 },
 "nbformat": 4,
 "nbformat_minor": 2
}
