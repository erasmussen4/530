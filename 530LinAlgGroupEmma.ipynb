{
 "cells": [
  {
   "cell_type": "markdown",
   "metadata": {},
   "source": [
    "# Linear Algebra Group Project\n",
    "#### Group Members: Corey Dobbs and Emma Rasmussen \n",
    "\n",
    "### Problem 1\n",
    "#### Part a: Write as a variational problem \n",
    " \n",
    "We are given the following for our boundary problem: \n",
    "$$ \n",
    "-u''(x) + V(x)u'(x) = f(x), x\\epsilon [0,1]\\\\\n",
    "u(0) = u(1) = 0\\\\\n",
    "V(x) = \\gamma, f(x) = 1\\\\\n",
    "$$ \n",
    "We first start by picking a test function, $\\phi(x)$. We then mupliply our initial function by this value and interate over x to get the following: \n",
    "$$ \n",
    "\\quad -\\int_{0}^{1} u''(x)\\phi(x) \\, dx + \\int_{0}^{1} u'(x)V(x)\\phi(x) \\, dx = \\int_{0}^{1} f(x)\\phi(x) \\, dx\n",
    "$$\n",
    "Focusing on the first term, we can use integration by parts to expand that to: \n",
    "$$\n",
    "\\left. -\\phi \\right|_{0}^{1} + \\int_{0}^{1} u'(x)\\phi'(x) \\,dx \n",
    "$$\n",
    "The first term of the above equation will go to zero, so getting rid of that and plugging our new expression back into our original intergral equation, we would end up with: \n",
    "$$\n",
    "\\quad \\int_{0}^{1} u'(x)\\phi'(x) \\,dx + \\int_{0}^{1} u'(x)V(x)\\phi(x) \\, dx = \\int_{0}^{1} f(x)\\phi(x) \\, dx\n",
    "$$ \n",
    "Where the terms, respecitvely, correspond to: \n",
    "$$ \n",
    "A_1[\\phi(x),u(x)] + A_2[\\phi(x),u(x)] = F[\\phi(x)] \n",
    "$$ \n",
    "\n",
    "#### Part b: Expand u as a linear combination\n",
    "\n",
    "Next, we will be expanding u as the given linear combination, $u = \\sum_{i=1}^{m} u_i\\phi_i(x)$. We will stop writing the x dependence of $\\phi$ for simplicity, but note that it still exists. Also, we will assume that we are choosing $\\phi$ from a finite dimensional basis $\\{\\phi_1, \\phi_2, ...,\\phi_m\\}$:\n",
    "$$\n",
    "A_1[\\phi_j,\\sum_{i=1}^{m} u_i\\phi_i] + A_2[\\phi_j,\\sum_{i=1}^{m} u_i\\phi_i] = F[\\phi_j] \n",
    "$$\n",
    "Since $u_i$ is a scalar, we can pull that and the sum out and simplify to: \n",
    "$$ \n",
    "\\sum_{i=1}^{m} u_i(A_1[\\phi_j,\\phi_i] + A_2[\\phi_j,\\phi_i]) = F[\\phi_j] \n",
    "$$ \n",
    "In this expression, $u_i$ corresponds to $x$, $A_1[\\phi_j,\\phi_i] + A_2[\\phi_j,\\phi_i]$ corersponds to $A_{ij}$, and $F[\\phi_j] $ corresponds to $b$, which shows that our problem is in the form $Ax-b$. \n",
    "\n",
    "#### Part c: Implement a driver routine that will return A and b given inputs n and gamma.  The matrix A should be implemented as a sparse representation in your environment."
   ]
  },
  {
   "cell_type": "code",
   "execution_count": 3,
   "metadata": {},
   "outputs": [],
   "source": [
    "import numpy as np\n",
    "from scipy.sparse import csr_matrix\n",
    "\n",
    "def driver(n, g):\n",
    "    A = csr_matrix((n,n))\n",
    "    "
   ]
  },
  {
   "cell_type": "code",
   "execution_count": 3,
   "metadata": {},
   "outputs": [
    {
     "name": "stdout",
     "output_type": "stream",
     "text": [
      "[[ 0.   0.   0.   0. ]\n",
      " [ 0.   5.5 -2.5  0. ]\n",
      " [ 0.  -3.   5.5  0. ]\n",
      " [ 0.   0.   0.   0. ]]\n"
     ]
    }
   ],
   "source": [
    "from scipy.sparse import csr_matrix, diags\n",
    "import numpy as np\n",
    "\n",
    "def driver( n, gamma ):\n",
    "    # A1 = csr_matrix((n+1,n+1))\n",
    "    # A2 = csr_matrix((n+1,n+1))\n",
    "    A1 = np.zeros( (n+1,n+1) )\n",
    "    A2 = np.zeros( (n+1,n+1) )\n",
    "    for i in range( 1, n ):\n",
    "        phi_hati = np.zeros( n )\n",
    "        phi_hati[i] = 0.5\n",
    "\n",
    "        phi_hatpi = np.zeros( n )\n",
    "        phi_hatpi[i-1] = n\n",
    "        phi_hatpi[i] = -n\n",
    "        \n",
    "        for j in range( 1, n ):\n",
    "            phi_hatpj = np.zeros( n )\n",
    "            phi_hatpj[j-1] = n\n",
    "            phi_hatpj[j] = -n\n",
    "\n",
    "            A1[i,j] = np.sum( phi_hatpi * phi_hatpj ) / n\n",
    "            A2[i,j] = gamma * np.sum( phi_hati * phi_hatpj ) / n\n",
    "\n",
    "            \n",
    "            \n",
    "\n",
    "    A = A1 + A2\n",
    "    b = np.ones( n )\n",
    "    return A, b, A1, A2\n",
    "\n",
    "A, b, A1, A2 = driver( 3, gamma=1 )\n",
    "# print(A1)\n",
    "# print(A2)\n",
    "print(A1+A2)\n"
   ]
  },
  {
   "cell_type": "code",
   "execution_count": 22,
   "metadata": {},
   "outputs": [
    {
     "name": "stdout",
     "output_type": "stream",
     "text": [
      "v1=[0.12038585 0.96308682 0.24077171]\n",
      "0.659380473395787\n",
      "11.133333333333333\n",
      "11.133333333333331\n",
      "11.133333333333336\n",
      "11.133333333333338\n",
      "11.13333333333334\n"
     ]
    },
    {
     "name": "stderr",
     "output_type": "stream",
     "text": [
      "/home/byu.local/cedobbs/.local/lib/python3.8/site-packages/scipy/sparse/_index.py:103: SparseEfficiencyWarning: Changing the sparsity structure of a csr_matrix is expensive. lil_matrix is more efficient.\n",
      "  self._set_intXint(row, col, x.flat[0])\n"
     ]
    },
    {
     "ename": "IndexError",
     "evalue": "index 3 is out of bounds for axis 0 with size 3",
     "output_type": "error",
     "traceback": [
      "\u001b[0;31m---------------------------------------------------------------------------\u001b[0m",
      "\u001b[0;31mIndexError\u001b[0m                                Traceback (most recent call last)",
      "Input \u001b[0;32mIn [22]\u001b[0m, in \u001b[0;36m<cell line: 33>\u001b[0;34m()\u001b[0m\n\u001b[1;32m     30\u001b[0m b \u001b[38;5;241m=\u001b[39m np\u001b[38;5;241m.\u001b[39marray([\u001b[38;5;241m1\u001b[39m,\u001b[38;5;241m8\u001b[39m,\u001b[38;5;241m2\u001b[39m])\u001b[38;5;241m.\u001b[39mT\n\u001b[1;32m     31\u001b[0m x0\u001b[38;5;241m=\u001b[39m\u001b[38;5;241m0\u001b[39m\n\u001b[0;32m---> 33\u001b[0m vtest, Htest \u001b[38;5;241m=\u001b[39m \u001b[43mmygmres\u001b[49m\u001b[43m(\u001b[49m\u001b[43m \u001b[49m\u001b[38;5;241;43m3\u001b[39;49m\u001b[43m,\u001b[49m\u001b[43m \u001b[49m\u001b[43mb\u001b[49m\u001b[43m,\u001b[49m\u001b[43m \u001b[49m\u001b[43mx0\u001b[49m\u001b[43m,\u001b[49m\u001b[43m \u001b[49m\u001b[38;5;241;43m3\u001b[39;49m\u001b[43m,\u001b[49m\u001b[43m \u001b[49m\u001b[43mA\u001b[49m\u001b[43m \u001b[49m\u001b[43m)\u001b[49m\n",
      "Input \u001b[0;32mIn [22]\u001b[0m, in \u001b[0;36mmygmres\u001b[0;34m(I, b, x0, n, A)\u001b[0m\n\u001b[1;32m     23\u001b[0m         n \u001b[38;5;241m=\u001b[39m j\n\u001b[1;32m     24\u001b[0m         \u001b[38;5;28;01mbreak\u001b[39;00m\n\u001b[0;32m---> 26\u001b[0m     v[j\u001b[38;5;241m+\u001b[39m\u001b[38;5;241m1\u001b[39m] \u001b[38;5;241m=\u001b[39m wj \u001b[38;5;241m/\u001b[39m H[j\u001b[38;5;241m+\u001b[39m\u001b[38;5;241m1\u001b[39m,j]\n\u001b[1;32m     27\u001b[0m \u001b[38;5;28;01mreturn\u001b[39;00m v, H\n",
      "\u001b[0;31mIndexError\u001b[0m: index 3 is out of bounds for axis 0 with size 3"
     ]
    }
   ],
   "source": [
    "def mygmres( I, b, x0, n, A ):\n",
    "\n",
    "    r0 = b #- A @ x0\n",
    "    beta = np.linalg.norm( r0, 2 )\n",
    "    \n",
    "    v1 = (r0 / beta).T\n",
    "    print(f\"v1={v1}\")\n",
    "    v = np.zeros( (len(v1),n) )\n",
    "    v[:,0] = v1\n",
    "\n",
    "    H = csr_matrix( (n+1,n) )\n",
    "\n",
    "    for j in range( n ):\n",
    "        wj = A @ v[j,:]\n",
    "        for i in range( j ):\n",
    "            H[i,j] = np.dot( wj, v[j,:] )\n",
    "            print(H[i,j])\n",
    "            wj = H[i,j] * v[j,:]\n",
    "\n",
    "        H[j+1,j] = np.linalg.norm( wj, 2 )\n",
    "        print(H[j+1,j])\n",
    "        if H[j+1,j]==0:\n",
    "            n = j\n",
    "            break\n",
    "\n",
    "        v[j+1] = wj / H[j+1,j]\n",
    "    return v, H\n",
    "\n",
    "A = np.array([[1,4,7],[2,9,7],[5,8,3]])\n",
    "b = np.array([1,8,2]).T\n",
    "x0=0\n",
    "\n",
    "vtest, Htest = mygmres( 3, b, x0, 3, A )"
   ]
  },
  {
   "cell_type": "code",
   "execution_count": 13,
   "metadata": {},
   "outputs": [
    {
     "name": "stdout",
     "output_type": "stream",
     "text": [
      "[[0.12038585 0.96308682 0.24077171]\n",
      " [0.37656678 0.70506121 0.60090444]\n",
      " [0.37656678 0.70506121 0.60090444]\n",
      " [0.37656678 0.70506121 0.60090444]]\n",
      "  (0, 1)\t16.362562588265504\n",
      "  (0, 2)\t16.362562588265497\n",
      "  (1, 0)\t15.02558205002485\n",
      "  (1, 2)\t16.362562588265494\n",
      "  (2, 1)\t16.362562588265508\n",
      "  (3, 2)\t16.36256258826549\n"
     ]
    }
   ],
   "source": [
    "print(vtest)\n",
    "print(Htest)"
   ]
  }
 ],
 "metadata": {
  "kernelspec": {
   "display_name": "Python 3",
   "language": "python",
   "name": "python3"
  },
  "language_info": {
   "codemirror_mode": {
    "name": "ipython",
    "version": 3
   },
   "file_extension": ".py",
   "mimetype": "text/x-python",
   "name": "python",
   "nbconvert_exporter": "python",
   "pygments_lexer": "ipython3",
   "version": "3.8.10"
  }
 },
 "nbformat": 4,
 "nbformat_minor": 4
}
