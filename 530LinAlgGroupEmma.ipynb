{
 "cells": [
  {
   "cell_type": "markdown",
   "metadata": {},
   "source": [
    "# Linear Algebra Group Project\n",
    "#### Group Members: Corey Dobbs and Emma Rasmussen \n",
    "\n",
    "### Problem 1\n",
    "#### Part a: Write as a variational problem \n",
    " \n",
    "We are given the following for our boundary problem: \n",
    "$$ \n",
    "-u''(x) + V(x)u'(x) = f(x), x\\epsilon [0,1]\\\\\n",
    "u(0) = u(1) = 0\\\\\n",
    "V(x) = \\gamma, f(x) = 1\\\\\n",
    "$$ \n",
    "We first start by picking a test function, $\\phi(x)$. We then mupliply our initial function by this value and interate over x to get the following: \n",
    "$$ \n",
    "\\quad -\\int_{0}^{1} u''(x)\\phi(x) \\, dx + \\int_{0}^{1} u'(x)V(x)\\phi(x) \\, dx = \\int_{0}^{1} f(x)\\phi(x) \\, dx\n",
    "$$\n",
    "Focusing on the first term, we can use integration by parts to expand that to: \n",
    "$$\n",
    "\\left. -\\phi \\right|_{0}^{1} + \\int_{0}^{1} u'(x)\\phi'(x) \\,dx \n",
    "$$\n",
    "The first term of the above equation will go to zero, so getting rid of that and plugging our new expression back into our original intergral equation, we would end up with: \n",
    "$$\n",
    "\\quad \\int_{0}^{1} u'(x)\\phi'(x) \\,dx + \\int_{0}^{1} u'(x)V(x)\\phi(x) \\, dx = \\int_{0}^{1} f(x)\\phi(x) \\, dx\n",
    "$$ \n",
    "Where the terms, respecitvely, correspond to: \n",
    "$$ \n",
    "A_1[\\phi(x),u(x)] + A_2[\\phi(x),u(x)] = F[\\phi(x)] \n",
    "$$ \n",
    "\n",
    "#### Part b: Expand u as a linear combination\n",
    "\n",
    "Next, we will be expanding u as the given linear combination, $u = \\sum_{i=1}^{m} u_i\\phi_i(x)$. We will stop writing the x dependence of $\\phi$ for simplicity, but note that it still exists. Also, we will assume that we are choosing $\\phi$ from a finite dimensional basis $\\{\\phi_1, \\phi_2, ...,\\phi_m\\}$:\n",
    "$$\n",
    "A_1[\\phi_j,\\sum_{i=1}^{m} u_i\\phi_i] + A_2[\\phi_j,\\sum_{i=1}^{m} u_i\\phi_i] = F[\\phi_j] \n",
    "$$\n",
    "Since $u_i$ is a scalar, we can pull that and the sum out and simplify to: \n",
    "$$ \n",
    "\\sum_{i=1}^{m} u_i(A_1[\\phi_j,\\phi_i] + A_2[\\phi_j,\\phi_i]) = F[\\phi_j] \n",
    "$$ \n",
    "In this expression, $u_i$ corresponds to $x$, $A_1[\\phi_j,\\phi_i] + A_2[\\phi_j,\\phi_i]$ corersponds to $A_{ij}$, and $F[\\phi_j] $ corresponds to $b$, which shows that our problem is in the form $Ax-b$. \n",
    "\n",
    "#### Part c: Implement a driver routine that will return A and b given inputs n and gamma.  The matrix A should be implemented as a sparse representation in your environment."
   ]
  },
  {
   "cell_type": "code",
   "execution_count": 19,
   "metadata": {},
   "outputs": [
    {
     "name": "stdout",
     "output_type": "stream",
     "text": [
      "[[ 8.  -4.5  0. ]\n",
      " [-3.5  8.  -4.5]\n",
      " [ 0.  -3.5  8. ]]\n"
     ]
    }
   ],
   "source": [
    "from scipy.sparse import csr_matrix, diags\n",
    "import numpy as np\n",
    "\n",
    "# Create driver function\n",
    "def driver( n, gamma ):\n",
    "\n",
    "    #Initialize matrices and diagonals  \n",
    "    A2 = np.zeros( (n+1,n+1) )\n",
    "    diagonalsA1 = np.ones( n ) * 2 * (n+1)\n",
    "    off_diagonalsA1 = np.ones( n-1 ) * -(n+1)\n",
    "    A1 = diags( [diagonalsA1,off_diagonalsA1,off_diagonalsA1], [0,1,-1] )\n",
    "\n",
    "    diagonalsA2 = np.zeros( n )\n",
    "    upper_diags = np.ones( n ) * -0.5\n",
    "    lower_diags = np.ones( n ) * 0.5\n",
    "    A2 = gamma*diags( [diagonalsA2,upper_diags,lower_diags], [0,1,-1] )\n",
    "            \n",
    "    # Create A from A1 and A2 and output\n",
    "    A = A1 + A2\n",
    "    b = np.ones( n )\n",
    "    return A, b\n",
    "\n",
    "# Testing Driver Function\n",
    "A, b = driver( 3, 1 )\n",
    "print(A.toarray())\n"
   ]
  },
  {
   "cell_type": "code",
   "execution_count": 42,
   "metadata": {},
   "outputs": [
    {
     "name": "stdout",
     "output_type": "stream",
     "text": [
      "H=[[13.05797101  0.          0.        ]\n",
      " [ 7.43353946  0.          0.        ]\n",
      " [ 0.          0.          0.        ]\n",
      " [ 0.          0.          0.        ]]\n",
      "H=[[13.05797101  5.40980927  0.        ]\n",
      " [ 7.43353946  3.99869214  0.        ]\n",
      " [ 0.          2.63182069  0.        ]\n",
      " [ 0.          0.          0.        ]]\n",
      "H=[[ 1.30579710e+01  5.40980927e+00 -1.56692078e+00]\n",
      " [ 7.43353946e+00  3.99869214e+00  1.06680460e+00]\n",
      " [ 0.00000000e+00  2.63182069e+00 -4.05666316e+00]\n",
      " [ 0.00000000e+00  0.00000000e+00  1.37803009e-15]]\n"
     ]
    }
   ],
   "source": [
    "# Create mygmres funciton\n",
    "def mygmres( I, b, x0, n, A ):\n",
    "\n",
    "    r0 = b - A @ x0\n",
    "    beta = np.linalg.norm( r0, 2 )\n",
    "    \n",
    "    v1 = (r0 / beta).T\n",
    "    # print(f\"v1={v1}\")\n",
    "    v = np.zeros( (len(v1),n+1) )\n",
    "    v[:,0] = v1\n",
    "\n",
    "    # H = csr_matrix( (n,n) )\n",
    "    H = np.zeros( (n+1,n) )\n",
    "    w = np.zeros((n,n))\n",
    "\n",
    "    for j in range( I ):\n",
    "        w[:,j] = np.dot( A, v[:,j] )\n",
    "        # print(f'vj={v[:,j]}')\n",
    "        # print(f'wj={wj}')\n",
    "        for i in range( j+1 ):\n",
    "            H[i,j] = np.dot( w[:,j], v[:,i] )\n",
    "            # print(f'Hij = {H[i,j]}')\n",
    "            w[:,j] = w[:,j] - H[i,j] * v[:,i]\n",
    "\n",
    "            # print(f'wj={wj}')\n",
    "        # if j==2:\n",
    "        #     break\n",
    "        H[j+1,j] = np.linalg.norm( w[:,j], 2 )\n",
    "        # print(f'Hj+1,j={H[j+1,j]}')\n",
    "        print(f'H={H}')\n",
    "        if H[j+1,j]==0:\n",
    "            break\n",
    "\n",
    "        v[:,j+1] = w[:,j] / H[j+1,j]\n",
    "        # print(f'v2={v[:,j+1]}')\n",
    "    return v, H\n",
    "\n",
    "# Test mygmres function\n",
    "A = np.array([[1,4,7],[2,9,7],[5,8,3]])\n",
    "b = np.array([1,8,2]).T\n",
    "x0=np.zeros(3)\n",
    "\n",
    "vtest, Htest = mygmres( 3, b, x0, 3, A )"
   ]
  },
  {
   "cell_type": "code",
   "execution_count": 43,
   "metadata": {},
   "outputs": [
    {
     "name": "stdout",
     "output_type": "stream",
     "text": [
      "[[ 0.12038585  0.54968971  0.82664894  0.        ]\n",
      " [ 0.96308682 -0.26663002  0.03704323  0.94664991]\n",
      " [ 0.24077171  0.79167522 -0.5614974  -0.3222638 ]]\n",
      "[[ 1.30579710e+01  5.40980927e+00 -1.56692078e+00]\n",
      " [ 7.43353946e+00  3.99869214e+00  1.06680460e+00]\n",
      " [ 0.00000000e+00  2.63182069e+00 -4.05666316e+00]\n",
      " [ 0.00000000e+00  0.00000000e+00  1.37803009e-15]]\n"
     ]
    }
   ],
   "source": [
    "print(vtest)\n",
    "print(Htest)"
   ]
  },
  {
   "cell_type": "code",
   "execution_count": 32,
   "metadata": {},
   "outputs": [
    {
     "ename": "ValueError",
     "evalue": "setting an array element with a sequence.",
     "output_type": "error",
     "traceback": [
      "\u001b[1;31m---------------------------------------------------------------------------\u001b[0m",
      "\u001b[1;31mTypeError\u001b[0m                                 Traceback (most recent call last)",
      "\u001b[1;31mTypeError\u001b[0m: float() argument must be a string or a number, not 'csr_matrix'",
      "\nThe above exception was the direct cause of the following exception:\n",
      "\u001b[1;31mValueError\u001b[0m                                Traceback (most recent call last)",
      "\u001b[1;32m<ipython-input-32-2118b8b9049c>\u001b[0m in \u001b[0;36m<module>\u001b[1;34m\u001b[0m\n\u001b[0;32m     19\u001b[0m         \u001b[1;32mreturn\u001b[0m \u001b[0mplot\u001b[0m\u001b[1;33m.\u001b[0m\u001b[0mplt\u001b[0m\u001b[1;33m(\u001b[0m\u001b[0merrvec\u001b[0m\u001b[1;33m,\u001b[0m \u001b[0mivec\u001b[0m\u001b[1;33m,\u001b[0m \u001b[0mn\u001b[0m\u001b[1;33m,\u001b[0m\u001b[0mivec\u001b[0m\u001b[1;33m,\u001b[0m\u001b[1;33m)\u001b[0m\u001b[1;33m\u001b[0m\u001b[1;33m\u001b[0m\u001b[0m\n\u001b[0;32m     20\u001b[0m \u001b[1;33m\u001b[0m\u001b[0m\n\u001b[1;32m---> 21\u001b[1;33m \u001b[0mGraphing\u001b[0m\u001b[1;33m(\u001b[0m\u001b[1;36m1\u001b[0m\u001b[1;33m)\u001b[0m\u001b[1;33m\u001b[0m\u001b[1;33m\u001b[0m\u001b[0m\n\u001b[0m\u001b[0;32m     22\u001b[0m \u001b[1;33m\u001b[0m\u001b[0m\n\u001b[0;32m     23\u001b[0m \u001b[1;33m\u001b[0m\u001b[0m\n",
      "\u001b[1;32m<ipython-input-32-2118b8b9049c>\u001b[0m in \u001b[0;36mGraphing\u001b[1;34m(gamma)\u001b[0m\n\u001b[0;32m     12\u001b[0m         \u001b[1;32mwhile\u001b[0m \u001b[0merr\u001b[0m \u001b[1;33m>\u001b[0m \u001b[1;36m10\u001b[0m\u001b[1;33m**\u001b[0m\u001b[1;33m(\u001b[0m\u001b[1;33m-\u001b[0m\u001b[1;36m6\u001b[0m\u001b[1;33m)\u001b[0m\u001b[1;33m:\u001b[0m\u001b[1;33m\u001b[0m\u001b[1;33m\u001b[0m\u001b[0m\n\u001b[0;32m     13\u001b[0m             \u001b[1;31m# ivec.append(I)\u001b[0m\u001b[1;33m\u001b[0m\u001b[1;33m\u001b[0m\u001b[1;33m\u001b[0m\u001b[0m\n\u001b[1;32m---> 14\u001b[1;33m             \u001b[0mv\u001b[0m\u001b[1;33m,\u001b[0m \u001b[0mH\u001b[0m \u001b[1;33m=\u001b[0m \u001b[0mmygmres\u001b[0m\u001b[1;33m(\u001b[0m\u001b[0mI\u001b[0m\u001b[1;33m,\u001b[0m \u001b[0mb\u001b[0m\u001b[1;33m,\u001b[0m \u001b[0mx0\u001b[0m\u001b[1;33m,\u001b[0m \u001b[0mn\u001b[0m\u001b[1;33m[\u001b[0m\u001b[0mi\u001b[0m\u001b[1;33m]\u001b[0m\u001b[1;33m,\u001b[0m \u001b[0mA\u001b[0m \u001b[1;33m)\u001b[0m\u001b[1;33m\u001b[0m\u001b[1;33m\u001b[0m\u001b[0m\n\u001b[0m\u001b[0;32m     15\u001b[0m             \u001b[0merr\u001b[0m \u001b[1;33m=\u001b[0m \u001b[0mnp\u001b[0m\u001b[1;33m.\u001b[0m\u001b[0mlinalg\u001b[0m\u001b[1;33m.\u001b[0m\u001b[0mnorm\u001b[0m\u001b[1;33m(\u001b[0m\u001b[0mv\u001b[0m\u001b[1;33m)\u001b[0m \u001b[1;33m/\u001b[0m \u001b[0mn\u001b[0m\u001b[1;33m[\u001b[0m\u001b[0mi\u001b[0m\u001b[1;33m]\u001b[0m\u001b[1;33m\u001b[0m\u001b[1;33m\u001b[0m\u001b[0m\n\u001b[0;32m     16\u001b[0m             \u001b[0mI\u001b[0m \u001b[1;33m=\u001b[0m \u001b[0mI\u001b[0m \u001b[1;33m*\u001b[0m \u001b[1;36m2\u001b[0m\u001b[1;33m\u001b[0m\u001b[1;33m\u001b[0m\u001b[0m\n",
      "\u001b[1;32m<ipython-input-31-3e88e0fc2ea8>\u001b[0m in \u001b[0;36mmygmres\u001b[1;34m(I, b, x0, n, A)\u001b[0m\n\u001b[0;32m     15\u001b[0m \u001b[1;33m\u001b[0m\u001b[0m\n\u001b[0;32m     16\u001b[0m     \u001b[1;32mfor\u001b[0m \u001b[0mj\u001b[0m \u001b[1;32min\u001b[0m \u001b[0mrange\u001b[0m\u001b[1;33m(\u001b[0m \u001b[0mI\u001b[0m \u001b[1;33m)\u001b[0m\u001b[1;33m:\u001b[0m\u001b[1;33m\u001b[0m\u001b[1;33m\u001b[0m\u001b[0m\n\u001b[1;32m---> 17\u001b[1;33m         \u001b[0mw\u001b[0m\u001b[1;33m[\u001b[0m\u001b[1;33m:\u001b[0m\u001b[1;33m,\u001b[0m\u001b[0mj\u001b[0m\u001b[1;33m]\u001b[0m \u001b[1;33m=\u001b[0m \u001b[0mnp\u001b[0m\u001b[1;33m.\u001b[0m\u001b[0mdot\u001b[0m\u001b[1;33m(\u001b[0m \u001b[0mA\u001b[0m\u001b[1;33m,\u001b[0m \u001b[0mv\u001b[0m\u001b[1;33m[\u001b[0m\u001b[1;33m:\u001b[0m\u001b[1;33m,\u001b[0m\u001b[0mj\u001b[0m\u001b[1;33m]\u001b[0m \u001b[1;33m)\u001b[0m\u001b[1;33m\u001b[0m\u001b[1;33m\u001b[0m\u001b[0m\n\u001b[0m\u001b[0;32m     18\u001b[0m         \u001b[1;31m# print(f'vj={v[:,j]}')\u001b[0m\u001b[1;33m\u001b[0m\u001b[1;33m\u001b[0m\u001b[1;33m\u001b[0m\u001b[0m\n\u001b[0;32m     19\u001b[0m         \u001b[1;31m# print(f'wj={wj}')\u001b[0m\u001b[1;33m\u001b[0m\u001b[1;33m\u001b[0m\u001b[1;33m\u001b[0m\u001b[0m\n",
      "\u001b[1;31mValueError\u001b[0m: setting an array element with a sequence."
     ]
    }
   ],
   "source": [
    "import matplotlib.pyplot as plt \n",
    "\n",
    "# Run mygmres and output graphs\n",
    "def Graphing(gamma):\n",
    "    n = (3,3,3,3) \n",
    "    for i in range(len(n)): \n",
    "        A, b = driver(n[i],gamma)\n",
    "        errvec = ()\n",
    "        ivec = ()\n",
    "        I = 2\n",
    "        err = 1\n",
    "        while err > 10**(-6):\n",
    "            # ivec.append(I)\n",
    "            v, H = mygmres(I, b, x0, n[i], A )\n",
    "            err = np.linalg.norm(v) / n[i]\n",
    "            I = I * 2 \n",
    "        ivec.append(I)\n",
    "        errvec.append(err)\n",
    "        \n",
    "        plot.subplot(1,2,1)\n",
    "        plot.plt(errvec,ivec)\n",
    "        plot.title(\"N =\" + str(n[i]))\n",
    "        \n",
    "        return plot.plt(errvec, ivec), plot.plt(n,ivec))\n",
    "\n",
    "Graphing(1)\n",
    "\n",
    "    \n",
    "\n"
   ]
  },
  {
   "cell_type": "code",
   "execution_count": 39,
   "metadata": {},
   "outputs": [
    {
     "data": {
      "image/png": "[encoded data removed]",
      "text/plain": [
       "<Figure size 432x288 with 1 Axes>"
      ]
     },
     "metadata": {
      "needs_background": "light"
     },
     "output_type": "display_data"
    }
   ],
   "source": [
    "x = (1,2,3,4,5,6,7)\n",
    "y = (2,4,6,8,10,12,14)\n",
    "x1 = (2,3,4,5,6,7,8)\n",
    "y1 = (6,8,4,5,6,8,6)\n",
    "\n",
    "def plottingex(a,b,c,d):\n",
    "    plt.subplot(1, 2, 1)  # Subplot 1\n",
    "    plt.plot(a, b)\n",
    "    plt.title('Plot 1')\n",
    "    plt.xlabel('X')\n",
    "    plt.ylabel('Y')\n",
    "\n",
    "    plt.subplot(1, 2, 2)  # Subplot 2\n",
    "    plt.plot(c, d)\n",
    "    plt.title('Plot 2')\n",
    "    plt.xlabel('X')\n",
    "    plt.ylabel('Y')\n",
    "\n",
    "    plt.tight_layout()  # Adjust layout to prevent overlapping\n",
    "    plt.show()\n",
    "\n",
    "plottingex(x,y,x1,y1)"
   ]
  }
 ],
 "metadata": {
  "kernelspec": {
   "display_name": "Python 3",
   "language": "python",
   "name": "python3"
  },
  "language_info": {
   "codemirror_mode": {
    "name": "ipython",
    "version": 3
   },
   "file_extension": ".py",
   "mimetype": "text/x-python",
   "name": "python",
   "nbconvert_exporter": "python",
   "pygments_lexer": "ipython3",
   "version": "3.8.5"
  }
 },
 "nbformat": 4,
 "nbformat_minor": 4
}
