{
 "cells": [
  {
   "cell_type": "markdown",
   "metadata": {},
   "source": [
    "# Linear Algebra Group Project\n",
    "#### Group Members: Corey Dobbs and Emma Rasmussen \n",
    "\n",
    "### Problem 1\n",
    "#### Part a: Write as a variational problem \n",
    " \n",
    "We are given the following for our boundary problem: \n",
    "$$ \n",
    "-u''(x) + V(x)u'(x) = f(x), x\\epsilon [0,1]\\\\\n",
    "u(0) = u(1) = 0\\\\\n",
    "V(x) = \\gamma, f(x) = 1\\\\\n",
    "$$ \n",
    "We first start by picking a test function, $\\phi(x)$. We then mupliply our initial function by this value and interate over x to get the following: \n",
    "$$ \n",
    "\\quad -\\int_{0}^{1} u''(x)\\phi(x) \\, dx + \\int_{0}^{1} u'(x)V(x)\\phi(x) \\, dx = \\int_{0}^{1} f(x)\\phi(x) \\, dx\n",
    "$$\n",
    "Focusing on the first term, we can use integration by parts to expand that to: \n",
    "$$\n",
    "\\left. -\\phi \\right|_{0}^{1} + \\int_{0}^{1} u'(x)\\phi'(x) \\,dx \n",
    "$$\n",
    "The first term of the above equation will go to zero, so getting rid of that and plugging our new expression back into our original intergral equation, we would end up with: \n",
    "$$\n",
    "\\quad \\int_{0}^{1} u'(x)\\phi'(x) \\,dx + \\int_{0}^{1} u'(x)V(x)\\phi(x) \\, dx = \\int_{0}^{1} f(x)\\phi(x) \\, dx\n",
    "$$ \n",
    "Where the terms, respecitvely, correspond to: \n",
    "$$ \n",
    "A_1[\\phi(x),u(x)] + A_2[\\phi(x),u(x)] = F[\\phi(x)] \n",
    "$$ \n",
    "\n",
    "#### Part b: Expand u as a linear combination\n",
    "\n",
    "Next, we will be expanding u as the given linear combination, $u = \\sum_{i=1}^{m} u_i\\phi_i(x)$. We will stop writing the x dependence of $\\phi$ for simplicity, but note that it still exists. Also, we will assume that we are choosing $\\phi$ from a finite dimensional basis $\\{\\phi_1, \\phi_2, ...,\\phi_m\\}$:\n",
    "$$\n",
    "A_1[\\phi_j,\\sum_{i=1}^{m} u_i\\phi_i] + A_2[\\phi_j,\\sum_{i=1}^{m} u_i\\phi_i] = F[\\phi_j] \n",
    "$$\n",
    "Since $u_i$ is a scalar, we can pull that and the sum out and simplify to: \n",
    "$$ \n",
    "\\sum_{i=1}^{m} u_i(A_1[\\phi_j,\\phi_i] + A_2[\\phi_j,\\phi_i]) = F[\\phi_j] \n",
    "$$ \n",
    "In this expression, $u_i$ corresponds to $x$, $A_1[\\phi_j,\\phi_i] + A_2[\\phi_j,\\phi_i]$ corersponds to $A_{ij}$, and $F[\\phi_j] $ corresponds to $b$, which shows that our problem is in the form $Ax-b$. \n",
    "\n",
    "#### Part c: Implement a driver routine that will return A and b given inputs n and gamma.  The matrix A should be implemented as a sparse representation in your environment."
   ]
  },
  {
   "cell_type": "code",
   "execution_count": 3,
   "metadata": {},
   "outputs": [],
   "source": [
    "import numpy as np\n",
    "from scipy.sparse import csr_matrix\n",
    "\n",
    "def driver(n, g):\n",
    "    A = csr_matrix((n,n))\n",
    "    "
   ]
  },
  {
   "cell_type": "code",
   "execution_count": 3,
   "metadata": {},
   "outputs": [
    {
     "name": "stdout",
     "output_type": "stream",
     "text": [
      "[[ 8.  -3.5  0. ]\n",
      " [-4.5  8.  -3.5]\n",
      " [ 0.  -4.5  8. ]]\n"
     ]
    }
   ],
   "source": [
    "from scipy.sparse import csr_matrix, diags\n",
    "import numpy as np\n",
    "\n",
    "def driver( n, gamma ):\n",
    "    A2 = np.zeros( (n+1,n+1) )\n",
    "    diagonalsA1 = np.ones( n ) * 2 * (n+1)\n",
    "    off_diagonalsA1 = np.ones( n-1 ) * -(n+1)\n",
    "    A1 = diags( [diagonalsA1,off_diagonalsA1,off_diagonalsA1], [0,1,-1] )\n",
    "\n",
    "    diagonalsA2 = np.zeros( n )\n",
    "    upper_diags = np.ones( n ) * 0.5\n",
    "    lower_diags = np.ones( n ) * -0.5\n",
    "    A2 = gamma*diags( [diagonalsA2,upper_diags,lower_diags], [0,1,-1] )\n",
    " \n",
    "    A = A1 + A2\n",
    "    b = np.ones( n ) / (n+1)\n",
    "    return A, b, A1, A2\n",
    "\n",
    "A, b, A1, A2 = driver( 3, gamma=1 )\n",
    "# print(A1)\n",
    "# print(A2)\n",
    "print(A.toarray())\n"
   ]
  },
  {
   "cell_type": "code",
   "execution_count": 24,
   "metadata": {},
   "outputs": [
    {
     "name": "stdout",
     "output_type": "stream",
     "text": [
      "[[ 0.12038585  0.54968971  0.82664894]\n",
      " [ 0.96308682 -0.26663002  0.03704323]\n",
      " [ 0.24077171  0.79167522 -0.5614974 ]] [[13.05797101  5.40980927 -1.56692078]\n",
      " [ 7.43353946  3.99869214  1.0668046 ]\n",
      " [ 0.          2.63182069 -4.05666316]] [[-2.18103448]\n",
      " [ 1.8362069 ]\n",
      " [-0.59482759]] [[ 1.36264332]\n",
      " [-2.15939034]\n",
      " [-1.40093667]]\n"
     ]
    }
   ],
   "source": [
    "def mygmres( I, b, x0, n, A ):\n",
    "\n",
    "    r0 = b - A @ x0\n",
    "    beta = np.linalg.norm( r0, 2 )\n",
    "    \n",
    "    v1 = (r0 / beta).T\n",
    "    v = np.zeros( (len(v1),n) )\n",
    "    v[:,0] = v1\n",
    "\n",
    "    H = np.zeros( (n+1,n) )\n",
    "    w = np.zeros((n,n))\n",
    "\n",
    "    for j in range( I ):\n",
    "        w[:,j] = np.dot( A, v[:,j] )\n",
    "        for i in range( j+1 ):\n",
    "            H[i,j] = np.dot( w[:,j], v[:,i] )\n",
    "            w[:,j] = w[:,j] - H[i,j] * v[:,i]\n",
    "\n",
    "        H[j+1,j] = np.linalg.norm( w[:,j], 2 )\n",
    "\n",
    "        if abs(H[j+1,j]) < 1e-8:\n",
    "            break\n",
    "\n",
    "        v[:,j+1] = w[:,j] / H[j+1,j]\n",
    "\n",
    "    e1 = np.zeros( (n,1) )\n",
    "    e1[0] = 1\n",
    "    H = H[:n,]\n",
    "    y = np.linalg.solve( H, beta*e1 )\n",
    "    x = v @ y\n",
    "\n",
    "    return x\n",
    "\n",
    "A = np.array([[1,4,7],[2,9,7],[5,8,3]])\n",
    "b = np.array([1,8,2]).T\n",
    "x0=np.zeros(3)\n",
    "\n",
    "ytest = mygmres( 3, b, x0, 3, A )\n",
    "print(ytest)"
   ]
  }
 ],
 "metadata": {
  "kernelspec": {
   "display_name": "Python 3",
   "language": "python",
   "name": "python3"
  },
  "language_info": {
   "codemirror_mode": {
    "name": "ipython",
    "version": 3
   },
   "file_extension": ".py",
   "mimetype": "text/x-python",
   "name": "python",
   "nbconvert_exporter": "python",
   "pygments_lexer": "ipython3",
   "version": "3.8.10"
  }
 },
 "nbformat": 4,
 "nbformat_minor": 4
}
